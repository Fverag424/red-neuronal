{
  "nbformat": 4,
  "nbformat_minor": 0,
  "metadata": {
    "colab": {
      "provenance": []
    },
    "kernelspec": {
      "name": "python3",
      "display_name": "Python 3"
    },
    "language_info": {
      "name": "python"
    }
  },
  "cells": [
    {
      "cell_type": "markdown",
      "source": [
        "Importamos librerías"
      ],
      "metadata": {
        "id": "fvJ30eXeavZB"
      }
    },
    {
      "cell_type": "code",
      "execution_count": null,
      "metadata": {
        "id": "iwvBMimwgteq"
      },
      "outputs": [],
      "source": [
        "import pandas as pd\n",
        "import numpy as np\n",
        "import matplotlib.pyplot as plt\n",
        "import seaborn as sns\n",
        "\n",
        "sns.set()"
      ]
    },
    {
      "cell_type": "markdown",
      "source": [
        "Leemos el dataset"
      ],
      "metadata": {
        "id": "A1Hivczwat3V"
      }
    },
    {
      "cell_type": "code",
      "source": [
        "dataset_train = pd.read_csv('TWTR (2).csv')\n",
        "dataset_train.head()\n"
      ],
      "metadata": {
        "colab": {
          "base_uri": "https://localhost:8080/",
          "height": 206
        },
        "id": "xMXTQF2WjL-i",
        "outputId": "333602c4-2e15-450d-d640-4e120c4841cd"
      },
      "execution_count": null,
      "outputs": [
        {
          "output_type": "execute_result",
          "data": {
            "text/plain": [
              "         Date       Open       High        Low      Close  Adj Close    Volume\n",
              "0  2015-01-02  36.230000  36.740002  35.540100  36.560001  36.560001  12062461\n",
              "1  2015-01-05  36.259998  37.110001  35.639999  36.380001  36.380001  15062744\n",
              "2  2015-01-06  36.270000  39.450001  36.040001  38.759998  38.759998  33050812\n",
              "3  2015-01-07  39.099998  39.099998  37.060001  37.279999  37.279999  22675663\n",
              "4  2015-01-08  37.419998  39.189999  37.090000  39.090000  39.090000  19190436"
            ],
            "text/html": [
              "\n",
              "  <div id=\"df-d6ee931a-2301-4a7e-b90b-7f04a22426ec\">\n",
              "    <div class=\"colab-df-container\">\n",
              "      <div>\n",
              "<style scoped>\n",
              "    .dataframe tbody tr th:only-of-type {\n",
              "        vertical-align: middle;\n",
              "    }\n",
              "\n",
              "    .dataframe tbody tr th {\n",
              "        vertical-align: top;\n",
              "    }\n",
              "\n",
              "    .dataframe thead th {\n",
              "        text-align: right;\n",
              "    }\n",
              "</style>\n",
              "<table border=\"1\" class=\"dataframe\">\n",
              "  <thead>\n",
              "    <tr style=\"text-align: right;\">\n",
              "      <th></th>\n",
              "      <th>Date</th>\n",
              "      <th>Open</th>\n",
              "      <th>High</th>\n",
              "      <th>Low</th>\n",
              "      <th>Close</th>\n",
              "      <th>Adj Close</th>\n",
              "      <th>Volume</th>\n",
              "    </tr>\n",
              "  </thead>\n",
              "  <tbody>\n",
              "    <tr>\n",
              "      <th>0</th>\n",
              "      <td>2015-01-02</td>\n",
              "      <td>36.230000</td>\n",
              "      <td>36.740002</td>\n",
              "      <td>35.540100</td>\n",
              "      <td>36.560001</td>\n",
              "      <td>36.560001</td>\n",
              "      <td>12062461</td>\n",
              "    </tr>\n",
              "    <tr>\n",
              "      <th>1</th>\n",
              "      <td>2015-01-05</td>\n",
              "      <td>36.259998</td>\n",
              "      <td>37.110001</td>\n",
              "      <td>35.639999</td>\n",
              "      <td>36.380001</td>\n",
              "      <td>36.380001</td>\n",
              "      <td>15062744</td>\n",
              "    </tr>\n",
              "    <tr>\n",
              "      <th>2</th>\n",
              "      <td>2015-01-06</td>\n",
              "      <td>36.270000</td>\n",
              "      <td>39.450001</td>\n",
              "      <td>36.040001</td>\n",
              "      <td>38.759998</td>\n",
              "      <td>38.759998</td>\n",
              "      <td>33050812</td>\n",
              "    </tr>\n",
              "    <tr>\n",
              "      <th>3</th>\n",
              "      <td>2015-01-07</td>\n",
              "      <td>39.099998</td>\n",
              "      <td>39.099998</td>\n",
              "      <td>37.060001</td>\n",
              "      <td>37.279999</td>\n",
              "      <td>37.279999</td>\n",
              "      <td>22675663</td>\n",
              "    </tr>\n",
              "    <tr>\n",
              "      <th>4</th>\n",
              "      <td>2015-01-08</td>\n",
              "      <td>37.419998</td>\n",
              "      <td>39.189999</td>\n",
              "      <td>37.090000</td>\n",
              "      <td>39.090000</td>\n",
              "      <td>39.090000</td>\n",
              "      <td>19190436</td>\n",
              "    </tr>\n",
              "  </tbody>\n",
              "</table>\n",
              "</div>\n",
              "      <button class=\"colab-df-convert\" onclick=\"convertToInteractive('df-d6ee931a-2301-4a7e-b90b-7f04a22426ec')\"\n",
              "              title=\"Convert this dataframe to an interactive table.\"\n",
              "              style=\"display:none;\">\n",
              "        \n",
              "  <svg xmlns=\"http://www.w3.org/2000/svg\" height=\"24px\"viewBox=\"0 0 24 24\"\n",
              "       width=\"24px\">\n",
              "    <path d=\"M0 0h24v24H0V0z\" fill=\"none\"/>\n",
              "    <path d=\"M18.56 5.44l.94 2.06.94-2.06 2.06-.94-2.06-.94-.94-2.06-.94 2.06-2.06.94zm-11 1L8.5 8.5l.94-2.06 2.06-.94-2.06-.94L8.5 2.5l-.94 2.06-2.06.94zm10 10l.94 2.06.94-2.06 2.06-.94-2.06-.94-.94-2.06-.94 2.06-2.06.94z\"/><path d=\"M17.41 7.96l-1.37-1.37c-.4-.4-.92-.59-1.43-.59-.52 0-1.04.2-1.43.59L10.3 9.45l-7.72 7.72c-.78.78-.78 2.05 0 2.83L4 21.41c.39.39.9.59 1.41.59.51 0 1.02-.2 1.41-.59l7.78-7.78 2.81-2.81c.8-.78.8-2.07 0-2.86zM5.41 20L4 18.59l7.72-7.72 1.47 1.35L5.41 20z\"/>\n",
              "  </svg>\n",
              "      </button>\n",
              "      \n",
              "  <style>\n",
              "    .colab-df-container {\n",
              "      display:flex;\n",
              "      flex-wrap:wrap;\n",
              "      gap: 12px;\n",
              "    }\n",
              "\n",
              "    .colab-df-convert {\n",
              "      background-color: #E8F0FE;\n",
              "      border: none;\n",
              "      border-radius: 50%;\n",
              "      cursor: pointer;\n",
              "      display: none;\n",
              "      fill: #1967D2;\n",
              "      height: 32px;\n",
              "      padding: 0 0 0 0;\n",
              "      width: 32px;\n",
              "    }\n",
              "\n",
              "    .colab-df-convert:hover {\n",
              "      background-color: #E2EBFA;\n",
              "      box-shadow: 0px 1px 2px rgba(60, 64, 67, 0.3), 0px 1px 3px 1px rgba(60, 64, 67, 0.15);\n",
              "      fill: #174EA6;\n",
              "    }\n",
              "\n",
              "    [theme=dark] .colab-df-convert {\n",
              "      background-color: #3B4455;\n",
              "      fill: #D2E3FC;\n",
              "    }\n",
              "\n",
              "    [theme=dark] .colab-df-convert:hover {\n",
              "      background-color: #434B5C;\n",
              "      box-shadow: 0px 1px 3px 1px rgba(0, 0, 0, 0.15);\n",
              "      filter: drop-shadow(0px 1px 2px rgba(0, 0, 0, 0.3));\n",
              "      fill: #FFFFFF;\n",
              "    }\n",
              "  </style>\n",
              "\n",
              "      <script>\n",
              "        const buttonEl =\n",
              "          document.querySelector('#df-d6ee931a-2301-4a7e-b90b-7f04a22426ec button.colab-df-convert');\n",
              "        buttonEl.style.display =\n",
              "          google.colab.kernel.accessAllowed ? 'block' : 'none';\n",
              "\n",
              "        async function convertToInteractive(key) {\n",
              "          const element = document.querySelector('#df-d6ee931a-2301-4a7e-b90b-7f04a22426ec');\n",
              "          const dataTable =\n",
              "            await google.colab.kernel.invokeFunction('convertToInteractive',\n",
              "                                                     [key], {});\n",
              "          if (!dataTable) return;\n",
              "\n",
              "          const docLinkHtml = 'Like what you see? Visit the ' +\n",
              "            '<a target=\"_blank\" href=https://colab.research.google.com/notebooks/data_table.ipynb>data table notebook</a>'\n",
              "            + ' to learn more about interactive tables.';\n",
              "          element.innerHTML = '';\n",
              "          dataTable['output_type'] = 'display_data';\n",
              "          await google.colab.output.renderOutput(dataTable, element);\n",
              "          const docLink = document.createElement('div');\n",
              "          docLink.innerHTML = docLinkHtml;\n",
              "          element.appendChild(docLink);\n",
              "        }\n",
              "      </script>\n",
              "    </div>\n",
              "  </div>\n",
              "  "
            ]
          },
          "metadata": {},
          "execution_count": 5
        }
      ]
    },
    {
      "cell_type": "markdown",
      "source": [
        "Tamaño del dataset"
      ],
      "metadata": {
        "id": "jGICjJ_Kawe8"
      }
    },
    {
      "cell_type": "code",
      "source": [
        "dataset_train.shape"
      ],
      "metadata": {
        "colab": {
          "base_uri": "https://localhost:8080/"
        },
        "id": "me1waD7ZjTQl",
        "outputId": "f5dc7391-18b1-4071-e638-23da039a3726"
      },
      "execution_count": null,
      "outputs": [
        {
          "output_type": "execute_result",
          "data": {
            "text/plain": [
              "(1762, 7)"
            ]
          },
          "metadata": {},
          "execution_count": 4
        }
      ]
    },
    {
      "cell_type": "markdown",
      "source": [
        "Datos de apertura se pasan a vector fila con Pandas"
      ],
      "metadata": {
        "id": "9SgRAiZ4bsPW"
      }
    },
    {
      "cell_type": "code",
      "source": [
        "training_set = dataset_train.loc[:,'Open']\n",
        "print(training_set.shape)\n",
        "type(training_set)"
      ],
      "metadata": {
        "colab": {
          "base_uri": "https://localhost:8080/"
        },
        "id": "xRoGd_y0jXHF",
        "outputId": "ad199ea1-5955-4020-cc5d-3361e3efb03c"
      },
      "execution_count": null,
      "outputs": [
        {
          "output_type": "stream",
          "name": "stdout",
          "text": [
            "(1762,)\n"
          ]
        },
        {
          "output_type": "execute_result",
          "data": {
            "text/plain": [
              "pandas.core.series.Series"
            ]
          },
          "metadata": {},
          "execution_count": 5
        }
      ]
    },
    {
      "cell_type": "markdown",
      "source": [
        "Datos de apertura se pasan de vector fila a vector columna usando Numpy"
      ],
      "metadata": {
        "id": "hWYqejXHbv1p"
      }
    },
    {
      "cell_type": "code",
      "source": [
        "training_set = dataset_train.loc[:,['Open']].values\n",
        "print(training_set.shape)\n",
        "print(type(training_set))"
      ],
      "metadata": {
        "colab": {
          "base_uri": "https://localhost:8080/"
        },
        "id": "-mwUqcBRjYFu",
        "outputId": "6c412b32-85c2-43ce-e0ad-7a77968b039c"
      },
      "execution_count": null,
      "outputs": [
        {
          "output_type": "stream",
          "name": "stdout",
          "text": [
            "(1762, 1)\n",
            "<class 'numpy.ndarray'>\n"
          ]
        }
      ]
    },
    {
      "cell_type": "markdown",
      "source": [
        "Escalamos los datos usando la normalización entre (0,1)"
      ],
      "metadata": {
        "id": "zd3LvrIibvAE"
      }
    },
    {
      "cell_type": "code",
      "source": [
        "from sklearn.preprocessing import MinMaxScaler"
      ],
      "metadata": {
        "id": "-LFQRrryjakL"
      },
      "execution_count": null,
      "outputs": []
    },
    {
      "cell_type": "code",
      "source": [
        "sc = MinMaxScaler(feature_range=(0,1))\n",
        "training_set_scaled = sc.fit_transform(training_set)\n",
        "training_set_scaled[:5]"
      ],
      "metadata": {
        "colab": {
          "base_uri": "https://localhost:8080/"
        },
        "id": "coh-6E70jcUd",
        "outputId": "2b768733-2b8e-4913-d1c0-ae49d3f3845e"
      },
      "execution_count": null,
      "outputs": [
        {
          "output_type": "execute_result",
          "data": {
            "text/plain": [
              "array([[0.34590901],\n",
              "       [0.34637475],\n",
              "       [0.34653004],\n",
              "       [0.39046728],\n",
              "       [0.36438438]])"
            ]
          },
          "metadata": {},
          "execution_count": 8
        }
      ]
    },
    {
      "cell_type": "markdown",
      "source": [
        "Creamos una estrutura de datos entre 60 dias"
      ],
      "metadata": {
        "id": "x8C28On-evak"
      }
    },
    {
      "cell_type": "code",
      "source": [
        "X_train = []\n",
        "y_train = []\n",
        "\n",
        "for i in range(60, training_set_scaled.size):\n",
        "    X_train.append(training_set_scaled[i-60:i, 0])\n",
        "    y_train.append(training_set_scaled[i, 0])\n",
        "    \n",
        "X_train, y_train = np.array(X_train), np.array(y_train)"
      ],
      "metadata": {
        "id": "b30btc5ZjerQ"
      },
      "execution_count": null,
      "outputs": []
    },
    {
      "cell_type": "markdown",
      "source": [
        "Tamaño de X e Y"
      ],
      "metadata": {
        "id": "GBF4-8j6feCI"
      }
    },
    {
      "cell_type": "code",
      "source": [
        "X_train.shape"
      ],
      "metadata": {
        "colab": {
          "base_uri": "https://localhost:8080/"
        },
        "id": "t7FA0FlejgMP",
        "outputId": "4284b67b-126d-4824-99b1-0a5b58bb6a42"
      },
      "execution_count": null,
      "outputs": [
        {
          "output_type": "execute_result",
          "data": {
            "text/plain": [
              "(1702, 60)"
            ]
          },
          "metadata": {},
          "execution_count": 10
        }
      ]
    },
    {
      "cell_type": "code",
      "source": [
        "y_train.shape"
      ],
      "metadata": {
        "colab": {
          "base_uri": "https://localhost:8080/"
        },
        "id": "6Gpc93sFjiGW",
        "outputId": "2aad16ba-4a79-4f3b-e67b-ee0eb4fb3277"
      },
      "execution_count": null,
      "outputs": [
        {
          "output_type": "execute_result",
          "data": {
            "text/plain": [
              "(1702,)"
            ]
          },
          "metadata": {},
          "execution_count": 11
        }
      ]
    },
    {
      "cell_type": "markdown",
      "source": [
        "Usamos reshape para agregar profundidad a la matriz"
      ],
      "metadata": {
        "id": "N9SDSGZofq4t"
      }
    },
    {
      "cell_type": "code",
      "source": [
        "X_train = np.reshape(X_train, (X_train.shape[0], X_train.shape[1], 1))\n",
        "X_train.shape"
      ],
      "metadata": {
        "colab": {
          "base_uri": "https://localhost:8080/"
        },
        "id": "m7aZi13LjkDn",
        "outputId": "39bba4e2-e936-4aa7-fbd0-1fee2f67201b"
      },
      "execution_count": null,
      "outputs": [
        {
          "output_type": "execute_result",
          "data": {
            "text/plain": [
              "(1702, 60, 1)"
            ]
          },
          "metadata": {},
          "execution_count": 12
        }
      ]
    },
    {
      "cell_type": "markdown",
      "source": [
        "Importamos keras para crear una RN recurrente"
      ],
      "metadata": {
        "id": "jdXywQ-SgLrT"
      }
    },
    {
      "cell_type": "code",
      "source": [
        "from keras.models import Sequential\n",
        "from keras.layers import Dense, LSTM, Dropout"
      ],
      "metadata": {
        "id": "JBtsPcvNjlu6"
      },
      "execution_count": null,
      "outputs": []
    },
    {
      "cell_type": "code",
      "source": [
        "regressor = Sequential()"
      ],
      "metadata": {
        "id": "z1QTKFZCjnYI"
      },
      "execution_count": null,
      "outputs": []
    },
    {
      "cell_type": "markdown",
      "source": [
        "Creamos la RN"
      ],
      "metadata": {
        "id": "nWBUNbHnFdiq"
      }
    },
    {
      "cell_type": "code",
      "source": [
        "regressor.add(LSTM(units=50, return_sequences=True, input_shape=(X_train.shape[1], 1)))\n",
        "regressor.add(Dropout(rate=0.2))\n",
        "regressor.add(LSTM(units=50, return_sequences=True))\n",
        "regressor.add(Dropout(rate=0.2))\n",
        "regressor.add(LSTM(units=50, return_sequences=True))\n",
        "regressor.add(Dropout(rate=0.2))\n",
        "regressor.add(LSTM(units=50, return_sequences=False))\n",
        "regressor.add(Dropout(rate=0.2))"
      ],
      "metadata": {
        "id": "uBrxCpDcjpIA"
      },
      "execution_count": null,
      "outputs": []
    },
    {
      "cell_type": "code",
      "source": [
        "regressor.add(Dense(units=1))"
      ],
      "metadata": {
        "id": "HoLAcPD6jpyO"
      },
      "execution_count": null,
      "outputs": []
    },
    {
      "cell_type": "markdown",
      "source": [
        "Compilamos los datos de la RN para conectar sus capas"
      ],
      "metadata": {
        "id": "APaLrl56gX_i"
      }
    },
    {
      "cell_type": "code",
      "source": [
        "regressor.compile(optimizer='adam', loss='mean_squared_error')"
      ],
      "metadata": {
        "id": "KbykR7XyjtUM"
      },
      "execution_count": null,
      "outputs": []
    },
    {
      "cell_type": "markdown",
      "source": [
        "Creamos y aplicamos el entrenamiento"
      ],
      "metadata": {
        "id": "h8XjfRgSggX9"
      }
    },
    {
      "cell_type": "code",
      "source": [
        "regressor.fit(X_train, y_train, epochs=100, batch_size=32)"
      ],
      "metadata": {
        "colab": {
          "base_uri": "https://localhost:8080/"
        },
        "id": "xl30lPN2jvIi",
        "outputId": "34f9cbe6-ded5-48df-c554-10bce7614be6"
      },
      "execution_count": null,
      "outputs": [
        {
          "output_type": "stream",
          "name": "stdout",
          "text": [
            "Epoch 1/100\n",
            "54/54 [==============================] - 12s 93ms/step - loss: 0.0188\n",
            "Epoch 2/100\n",
            "54/54 [==============================] - 5s 96ms/step - loss: 0.0059\n",
            "Epoch 3/100\n",
            "54/54 [==============================] - 5s 95ms/step - loss: 0.0050\n",
            "Epoch 4/100\n",
            "54/54 [==============================] - 5s 95ms/step - loss: 0.0049\n",
            "Epoch 5/100\n",
            "54/54 [==============================] - 5s 93ms/step - loss: 0.0047\n",
            "Epoch 6/100\n",
            "54/54 [==============================] - 5s 95ms/step - loss: 0.0042\n",
            "Epoch 7/100\n",
            "54/54 [==============================] - 5s 95ms/step - loss: 0.0038\n",
            "Epoch 8/100\n",
            "54/54 [==============================] - 5s 95ms/step - loss: 0.0035\n",
            "Epoch 9/100\n",
            "54/54 [==============================] - 5s 96ms/step - loss: 0.0033\n",
            "Epoch 10/100\n",
            "54/54 [==============================] - 5s 95ms/step - loss: 0.0032\n",
            "Epoch 11/100\n",
            "54/54 [==============================] - 5s 98ms/step - loss: 0.0031\n",
            "Epoch 12/100\n",
            "54/54 [==============================] - 6s 104ms/step - loss: 0.0030\n",
            "Epoch 13/100\n",
            "54/54 [==============================] - 6s 104ms/step - loss: 0.0028\n",
            "Epoch 14/100\n",
            "54/54 [==============================] - 5s 93ms/step - loss: 0.0027\n",
            "Epoch 15/100\n",
            "54/54 [==============================] - 5s 94ms/step - loss: 0.0026\n",
            "Epoch 16/100\n",
            "54/54 [==============================] - 5s 95ms/step - loss: 0.0024\n",
            "Epoch 17/100\n",
            "54/54 [==============================] - 5s 93ms/step - loss: 0.0025\n",
            "Epoch 18/100\n",
            "54/54 [==============================] - 5s 95ms/step - loss: 0.0021\n",
            "Epoch 19/100\n",
            "54/54 [==============================] - 5s 94ms/step - loss: 0.0022\n",
            "Epoch 20/100\n",
            "54/54 [==============================] - 5s 96ms/step - loss: 0.0022\n",
            "Epoch 21/100\n",
            "54/54 [==============================] - 5s 94ms/step - loss: 0.0024\n",
            "Epoch 22/100\n",
            "54/54 [==============================] - 5s 94ms/step - loss: 0.0023\n",
            "Epoch 23/100\n",
            "54/54 [==============================] - 5s 94ms/step - loss: 0.0021\n",
            "Epoch 24/100\n",
            "54/54 [==============================] - 6s 103ms/step - loss: 0.0021\n",
            "Epoch 25/100\n",
            "54/54 [==============================] - 5s 94ms/step - loss: 0.0021\n",
            "Epoch 26/100\n",
            "54/54 [==============================] - 5s 94ms/step - loss: 0.0019\n",
            "Epoch 27/100\n",
            "54/54 [==============================] - 5s 95ms/step - loss: 0.0020\n",
            "Epoch 28/100\n",
            "54/54 [==============================] - 5s 96ms/step - loss: 0.0018\n",
            "Epoch 29/100\n",
            "54/54 [==============================] - 5s 94ms/step - loss: 0.0018\n",
            "Epoch 30/100\n",
            "54/54 [==============================] - 5s 95ms/step - loss: 0.0019\n",
            "Epoch 31/100\n",
            "54/54 [==============================] - 5s 93ms/step - loss: 0.0018\n",
            "Epoch 32/100\n",
            "54/54 [==============================] - 5s 94ms/step - loss: 0.0017\n",
            "Epoch 33/100\n",
            "54/54 [==============================] - 5s 94ms/step - loss: 0.0018\n",
            "Epoch 34/100\n",
            "54/54 [==============================] - 5s 95ms/step - loss: 0.0018\n",
            "Epoch 35/100\n",
            "54/54 [==============================] - 5s 94ms/step - loss: 0.0019\n",
            "Epoch 36/100\n",
            "54/54 [==============================] - 5s 94ms/step - loss: 0.0017\n",
            "Epoch 37/100\n",
            "54/54 [==============================] - 5s 93ms/step - loss: 0.0014\n",
            "Epoch 38/100\n",
            "54/54 [==============================] - 5s 94ms/step - loss: 0.0016\n",
            "Epoch 39/100\n",
            "54/54 [==============================] - 5s 94ms/step - loss: 0.0017\n",
            "Epoch 40/100\n",
            "54/54 [==============================] - 5s 94ms/step - loss: 0.0016\n",
            "Epoch 41/100\n",
            "54/54 [==============================] - 5s 95ms/step - loss: 0.0013\n",
            "Epoch 42/100\n",
            "54/54 [==============================] - 5s 96ms/step - loss: 0.0015\n",
            "Epoch 43/100\n",
            "54/54 [==============================] - 5s 94ms/step - loss: 0.0015\n",
            "Epoch 44/100\n",
            "54/54 [==============================] - 5s 95ms/step - loss: 0.0014\n",
            "Epoch 45/100\n",
            "54/54 [==============================] - 5s 95ms/step - loss: 0.0016\n",
            "Epoch 46/100\n",
            "54/54 [==============================] - 5s 93ms/step - loss: 0.0014\n",
            "Epoch 47/100\n",
            "54/54 [==============================] - 5s 94ms/step - loss: 0.0015\n",
            "Epoch 48/100\n",
            "54/54 [==============================] - 5s 95ms/step - loss: 0.0014\n",
            "Epoch 49/100\n",
            "54/54 [==============================] - 5s 95ms/step - loss: 0.0014\n",
            "Epoch 50/100\n",
            "54/54 [==============================] - 5s 95ms/step - loss: 0.0016\n",
            "Epoch 51/100\n",
            "54/54 [==============================] - 5s 96ms/step - loss: 0.0014\n",
            "Epoch 52/100\n",
            "54/54 [==============================] - 5s 96ms/step - loss: 0.0012\n",
            "Epoch 53/100\n",
            "54/54 [==============================] - 5s 96ms/step - loss: 0.0013\n",
            "Epoch 54/100\n",
            "54/54 [==============================] - 5s 96ms/step - loss: 0.0014\n",
            "Epoch 55/100\n",
            "54/54 [==============================] - 5s 95ms/step - loss: 0.0014\n",
            "Epoch 56/100\n",
            "54/54 [==============================] - 5s 94ms/step - loss: 0.0013\n",
            "Epoch 57/100\n",
            "54/54 [==============================] - 8s 142ms/step - loss: 0.0012\n",
            "Epoch 58/100\n",
            "54/54 [==============================] - 7s 127ms/step - loss: 0.0013\n",
            "Epoch 59/100\n",
            "54/54 [==============================] - 6s 110ms/step - loss: 0.0014\n",
            "Epoch 60/100\n",
            "54/54 [==============================] - 5s 98ms/step - loss: 0.0011\n",
            "Epoch 61/100\n",
            "54/54 [==============================] - 5s 101ms/step - loss: 0.0012\n",
            "Epoch 62/100\n",
            "54/54 [==============================] - 5s 94ms/step - loss: 9.7624e-04\n",
            "Epoch 63/100\n",
            "54/54 [==============================] - 5s 101ms/step - loss: 0.0011\n",
            "Epoch 64/100\n",
            "54/54 [==============================] - 6s 103ms/step - loss: 0.0012\n",
            "Epoch 65/100\n",
            "54/54 [==============================] - 8s 144ms/step - loss: 0.0012\n",
            "Epoch 66/100\n",
            "54/54 [==============================] - 6s 105ms/step - loss: 0.0012\n",
            "Epoch 67/100\n",
            "54/54 [==============================] - 8s 157ms/step - loss: 0.0011\n",
            "Epoch 68/100\n",
            "54/54 [==============================] - 5s 97ms/step - loss: 0.0012\n",
            "Epoch 69/100\n",
            "54/54 [==============================] - 5s 95ms/step - loss: 0.0013\n",
            "Epoch 70/100\n",
            "54/54 [==============================] - 5s 95ms/step - loss: 0.0010\n",
            "Epoch 71/100\n",
            "54/54 [==============================] - 5s 94ms/step - loss: 0.0011\n",
            "Epoch 72/100\n",
            "54/54 [==============================] - 5s 95ms/step - loss: 0.0012\n",
            "Epoch 73/100\n",
            "54/54 [==============================] - 5s 95ms/step - loss: 0.0011\n",
            "Epoch 74/100\n",
            "54/54 [==============================] - 5s 96ms/step - loss: 0.0011\n",
            "Epoch 75/100\n",
            "54/54 [==============================] - 5s 96ms/step - loss: 0.0012\n",
            "Epoch 76/100\n",
            "54/54 [==============================] - 5s 96ms/step - loss: 0.0012\n",
            "Epoch 77/100\n",
            "54/54 [==============================] - 5s 96ms/step - loss: 0.0010\n",
            "Epoch 78/100\n",
            "54/54 [==============================] - 5s 96ms/step - loss: 0.0012\n",
            "Epoch 79/100\n",
            "54/54 [==============================] - 5s 95ms/step - loss: 0.0012\n",
            "Epoch 80/100\n",
            "54/54 [==============================] - 6s 117ms/step - loss: 9.5737e-04\n",
            "Epoch 81/100\n",
            "54/54 [==============================] - 5s 94ms/step - loss: 0.0011\n",
            "Epoch 82/100\n",
            "54/54 [==============================] - 5s 95ms/step - loss: 9.8775e-04\n",
            "Epoch 83/100\n",
            "54/54 [==============================] - 5s 95ms/step - loss: 0.0011\n",
            "Epoch 84/100\n",
            "54/54 [==============================] - 6s 112ms/step - loss: 0.0011\n",
            "Epoch 85/100\n",
            "54/54 [==============================] - 5s 95ms/step - loss: 0.0010\n",
            "Epoch 86/100\n",
            "54/54 [==============================] - 5s 95ms/step - loss: 9.5966e-04\n",
            "Epoch 87/100\n",
            "54/54 [==============================] - 5s 96ms/step - loss: 0.0010\n",
            "Epoch 88/100\n",
            "54/54 [==============================] - 6s 105ms/step - loss: 9.8113e-04\n",
            "Epoch 89/100\n",
            "54/54 [==============================] - 5s 94ms/step - loss: 0.0011\n",
            "Epoch 90/100\n",
            "54/54 [==============================] - 5s 96ms/step - loss: 0.0011\n",
            "Epoch 91/100\n",
            "54/54 [==============================] - 5s 96ms/step - loss: 9.5900e-04\n",
            "Epoch 92/100\n",
            "54/54 [==============================] - 5s 94ms/step - loss: 0.0011\n",
            "Epoch 93/100\n",
            "54/54 [==============================] - 5s 95ms/step - loss: 0.0011\n",
            "Epoch 94/100\n",
            "54/54 [==============================] - 5s 96ms/step - loss: 0.0011\n",
            "Epoch 95/100\n",
            "54/54 [==============================] - 5s 95ms/step - loss: 0.0010\n",
            "Epoch 96/100\n",
            "54/54 [==============================] - 5s 95ms/step - loss: 0.0010\n",
            "Epoch 97/100\n",
            "54/54 [==============================] - 5s 96ms/step - loss: 0.0010\n",
            "Epoch 98/100\n",
            "54/54 [==============================] - 5s 95ms/step - loss: 9.7689e-04\n",
            "Epoch 99/100\n",
            "54/54 [==============================] - 5s 95ms/step - loss: 0.0011\n",
            "Epoch 100/100\n",
            "54/54 [==============================] - 5s 95ms/step - loss: 9.4011e-04\n"
          ]
        },
        {
          "output_type": "execute_result",
          "data": {
            "text/plain": [
              "<keras.callbacks.History at 0x7ff08a547e10>"
            ]
          },
          "metadata": {},
          "execution_count": 18
        }
      ]
    },
    {
      "cell_type": "markdown",
      "source": [
        "Cargamos y preparamos el dataset de los precios reales del mes de Enero 2022"
      ],
      "metadata": {
        "id": "l375GmBbgk8t"
      }
    },
    {
      "cell_type": "code",
      "source": [
        "dataset_test = pd.read_csv('TWTR - TWTR (1).csv') \n",
        "real_stock_price = dataset_test.loc[:, ['Open']].values"
      ],
      "metadata": {
        "id": "GXyp54i1k4Nh"
      },
      "execution_count": null,
      "outputs": []
    },
    {
      "cell_type": "code",
      "source": [
        "real_stock_price"
      ],
      "metadata": {
        "colab": {
          "base_uri": "https://localhost:8080/"
        },
        "id": "PyFstWt1k74S",
        "outputId": "e4c418b5-4953-4e4e-cb8e-2262233dafe1"
      },
      "execution_count": null,
      "outputs": [
        {
          "output_type": "execute_result",
          "data": {
            "text/plain": [
              "array([[43.5     ],\n",
              "       [42.849998],\n",
              "       [40.799999],\n",
              "       [39.5     ],\n",
              "       [39.650002],\n",
              "       [39.320003],\n",
              "       [39.330002],\n",
              "       [39.790001],\n",
              "       [40.880001],\n",
              "       [40.150002],\n",
              "       [38.43    ],\n",
              "       [37.720001],\n",
              "       [37.130001],\n",
              "       [37.84    ],\n",
              "       [36.900002],\n",
              "       [33.700001],\n",
              "       [34.220001],\n",
              "       [34.970001],\n",
              "       [34.139999],\n",
              "       [33.790001]])"
            ]
          },
          "metadata": {},
          "execution_count": 20
        }
      ]
    },
    {
      "cell_type": "code",
      "source": [
        "dataset_total = pd.concat((dataset_train['Open'], \n",
        "                           dataset_test['Open']), \n",
        "                           axis=0)\n",
        "\n",
        "inputs = dataset_total[len(dataset_total) - len(dataset_test) - 60:].values"
      ],
      "metadata": {
        "id": "dNRFti05k-Yr"
      },
      "execution_count": null,
      "outputs": []
    },
    {
      "cell_type": "code",
      "source": [
        "inputs = inputs.reshape(-1,1)"
      ],
      "metadata": {
        "id": "mhG-YfXclAwI"
      },
      "execution_count": null,
      "outputs": []
    },
    {
      "cell_type": "code",
      "source": [
        "inputs = sc.transform(inputs)"
      ],
      "metadata": {
        "id": "JCuXSljAlC0W"
      },
      "execution_count": null,
      "outputs": []
    },
    {
      "cell_type": "code",
      "source": [
        "X_test = []\n",
        "for i in range(60, 80):\n",
        "    X_test.append(inputs[i-60:i, 0])\n",
        "X_test = np.array(X_test)\n",
        "X_test = np.reshape(X_test, (X_test.shape[0], X_test.shape[1], 1))"
      ],
      "metadata": {
        "id": "970r6TGhlEPv"
      },
      "execution_count": null,
      "outputs": []
    },
    {
      "cell_type": "markdown",
      "source": [
        "Hacemos la predicción\n"
      ],
      "metadata": {
        "id": "S_Yfmjrd0YqU"
      }
    },
    {
      "cell_type": "code",
      "source": [
        "predicted_stock_price = regressor.predict(X_test)\n",
        "\n",
        "predicted_stock_price = sc.inverse_transform(predicted_stock_price)"
      ],
      "metadata": {
        "colab": {
          "base_uri": "https://localhost:8080/"
        },
        "id": "QfPqMwyMlFgc",
        "outputId": "d9af0468-5e24-4748-bf5d-c2e7d47657b2"
      },
      "execution_count": null,
      "outputs": [
        {
          "output_type": "stream",
          "name": "stdout",
          "text": [
            "1/1 [==============================] - 2s 2s/step\n"
          ]
        }
      ]
    },
    {
      "cell_type": "markdown",
      "source": [
        "Graficamos y comparamos la predicción"
      ],
      "metadata": {
        "id": "TyDtJMFhcYcz"
      }
    },
    {
      "cell_type": "code",
      "source": [
        "plt.plot(real_stock_price, color = 'red', label = 'Real Twitter stock price')\n",
        "plt.plot(predicted_stock_price, color = 'blue', label = 'Predicted Twitter Stock Price')\n",
        "plt.title('Twitter Stock Price Prediction')\n",
        "plt.xlabel('Time')\n",
        "plt.ylabel('Twitter Stock Price')\n",
        "plt.legend()\n",
        "plt.show()"
      ],
      "metadata": {
        "colab": {
          "base_uri": "https://localhost:8080/",
          "height": 301
        },
        "id": "byF0bkSKlGn_",
        "outputId": "dc9a6a97-ecde-457a-9f7d-82867ea2e785"
      },
      "execution_count": null,
      "outputs": [
        {
          "output_type": "display_data",
          "data": {
            "text/plain": [
              "<Figure size 432x288 with 1 Axes>"
            ],
            "image/png": "[encoded data removed]"
          },
          "metadata": {}
        }
      ]
    }
  ]
}